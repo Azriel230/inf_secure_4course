{
 "cells": [
  {
   "cell_type": "code",
   "execution_count": 1,
   "metadata": {},
   "outputs": [],
   "source": [
    "import read_write_file as rwf\n",
    "from sdes import SDes"
   ]
  },
  {
   "cell_type": "markdown",
   "metadata": {},
   "source": [
    "***Задание 1.*** </br>\n",
    "Написать функцию key_schedule </br>\n",
    "Проверить для ключа key = 0111111101"
   ]
  },
  {
   "cell_type": "code",
   "execution_count": 2,
   "metadata": {},
   "outputs": [],
   "source": [
    "s = SDes()\n",
    "key = int('0111111101', 2)\n",
    "s.key_schedule(key)"
   ]
  },
  {
   "cell_type": "markdown",
   "metadata": {},
   "source": [
    "***Задание 2.*** </br>\n",
    "Написать функцию F </br>\n",
    "Проверить для значений block = 0011 и k = 01011111"
   ]
  },
  {
   "cell_type": "code",
   "execution_count": 3,
   "metadata": {},
   "outputs": [],
   "source": [
    "s = SDes()\n",
    "block = int('0011', 2)\n",
    "k = int('01011111', 2)\n",
    "a = s.F(block, k)"
   ]
  },
  {
   "cell_type": "markdown",
   "metadata": {},
   "source": [
    "***Задание 3.*** </br>\n",
    "Написать функцию f_r </br>\n",
    "Проверить для значений block=10110011 и SK=01011111"
   ]
  },
  {
   "cell_type": "code",
   "execution_count": 4,
   "metadata": {},
   "outputs": [],
   "source": [
    "s = SDes()\n",
    "block = int('10110011', 2)\n",
    "sk = int('01011111', 2)\n",
    "a = s.f_k(block, sk)"
   ]
  },
  {
   "cell_type": "markdown",
   "metadata": {},
   "source": [
    "***Задание 4.*** </br>\n",
    "Написать функцию sdes </br>\n",
    "Проверить для значений block=11101010, k1=01011111, k2=11111100"
   ]
  },
  {
   "cell_type": "code",
   "execution_count": 5,
   "metadata": {},
   "outputs": [],
   "source": [
    "s = SDes()\n",
    "block = int('11101010', 2)\n",
    "k1 = int('01011111', 2)\n",
    "k2 = int('11111100', 2)\n",
    "a = s.sdes(block, k1, k2)"
   ]
  },
  {
   "cell_type": "markdown",
   "metadata": {},
   "source": [
    "***Задание 5.*** </br>\n",
    "Написать функцию encrypt </br>\n",
    "***Задание 6.*** </br>\n",
    "Написать функцию decrypt </br>\n",
    "***Задание 7.*** </br>\n",
    "Написать функцию encrypt_data() и decrypt_data(), которые позволяют зашифровать и расшифровать массивы байт. </br>\n",
    "Например, для ключа key=0111111101 результатом шифрования чисел из массива [234, 54, 135, 98, 47] будет массив чисел [162, 222, 0, 10, 83]."
   ]
  },
  {
   "cell_type": "code",
   "execution_count": 6,
   "metadata": {},
   "outputs": [
    {
     "name": "stdout",
     "output_type": "stream",
     "text": [
      "Started__: [234, 54, 135, 98, 47]\n",
      "Encrypted: [162, 222, 0, 10, 83]\n",
      "Decrypted: [234, 54, 135, 98, 47]\n"
     ]
    }
   ],
   "source": [
    "s = SDes()\n",
    "key = int('0111111101', 2)\n",
    "data = [234, 54, 135, 98, 47]\n",
    "print(\"Started__:\", data)\n",
    "data_crypt = []\n",
    "data_crypt = s.encrypt_data(data, key)\n",
    "print(\"Encrypted:\", data_crypt)\n",
    "data_crypt = s.decrypt_data(data_crypt, key)\n",
    "print(\"Decrypted:\", data_crypt)"
   ]
  },
  {
   "cell_type": "markdown",
   "metadata": {},
   "source": [
    "***Задание 8*** </br>\n",
    "Расшифровать файл aa1_sdes_c_all.bmp – зашифрованное шифром S_DES изображение в формате bmp. Режим шифрования ECB.  Ключ равен 645. Зашифровать в режиме ECB, оставив первые 50 байт без изменения\n"
   ]
  },
  {
   "cell_type": "code",
   "execution_count": 7,
   "metadata": {},
   "outputs": [],
   "source": [
    "data = rwf.read_data_1byte('aa1_sdes_c_all.bmp')\n",
    "key_inp = 645\n",
    "key_bin = bin(key_inp)\n",
    "key = int(key_bin[2:], 2)\n",
    "s = SDes()\n",
    "\n",
    "decrypt_data_arr = s.decrypt_data(data, key) \n",
    "rwf.write_data_1byte('aa1_sdes_c_all_decrypt.bmp', decrypt_data_arr)\n",
    "\n",
    "encrypt_data_arr = decrypt_data_arr[:50]\n",
    "temp_data = s.encrypt_data(decrypt_data_arr[50:], key)\n",
    "encrypt_data_arr.extend(temp_data)\n",
    "rwf.write_data_1byte('aa1_sdes_c_all_encrypt_50.bmp', encrypt_data_arr)"
   ]
  },
  {
   "cell_type": "markdown",
   "metadata": {},
   "source": [
    "***Задание 9*** </br>\n",
    "Расшифровать файл aa2_sdes_c_cbc_all.bmp – зашифрованное шифром S_DES изображение в формате bmp. Режим шифрования CBC.  Ключ равен 845. Вектор инициализации равен 56. Зашифровать в режиме ECB и в режиме CBC, оставив первые 50 байт без изменения. Сравнить полученные изображения.\n"
   ]
  },
  {
   "cell_type": "code",
   "execution_count": 8,
   "metadata": {},
   "outputs": [],
   "source": [
    "data = rwf.read_data_1byte('aa2_sdes_c_cbc_all.bmp')\n",
    "key_inp = 845\n",
    "key_bin = bin(key_inp)\n",
    "key = int(key_bin[2:], 2)\n",
    "init_vec = 56\n",
    "s = SDes()\n",
    "\n",
    "decrypt_data_arr = s.decrypt_CBC(data, key, init_vec) \n",
    "rwf.write_data_1byte('aa2_sdes_c_cbc_all_decrypt.bmp', decrypt_data_arr)\n",
    "\n",
    "encrypt_data_arr = decrypt_data_arr[:50]\n",
    "temp_data = s.encrypt_data(decrypt_data_arr[50:], key)\n",
    "encrypt_data_arr.extend(temp_data)\n",
    "rwf.write_data_1byte('aa2_sdes_c_cbc_all_encrypt_ECB.bmp', encrypt_data_arr)\n",
    "\n",
    "encrypt_data_arr = decrypt_data_arr[:50]\n",
    "temp_data = s.encrypt_CBC(decrypt_data_arr[50:], key, init_vec)\n",
    "encrypt_data_arr.extend(temp_data)\n",
    "rwf.write_data_1byte('aa2_sdes_c_cbc_all_encrypt_CBC.bmp', encrypt_data_arr)"
   ]
  },
  {
   "cell_type": "markdown",
   "metadata": {},
   "source": [
    "***Задание 10*** </br>\n",
    "Расшифровать файл aa3_sdes_c_ofb_all.bmp – зашифрованное шифром S_DES изображение в формате bmp. Режим шифрования OFB.  Ключ равен 932. Вектор инициализации равен 234. Зашифровать в режиме ECB и в режиме OFB, оставив первые 50 байт без изменения. Сравнить полученные изображения.\n"
   ]
  },
  {
   "cell_type": "code",
   "execution_count": 9,
   "metadata": {},
   "outputs": [],
   "source": [
    "data = rwf.read_data_1byte('aa3_sdes_c_ofb_all.bmp')\n",
    "key_inp = 932\n",
    "key_bin = bin(key_inp)\n",
    "key = int(key_bin[2:], 2)\n",
    "vector = 234\n",
    "init_vec_bin = bin(vector)\n",
    "init_vec = int(init_vec_bin[2:], 2)\n",
    "s = SDes()\n",
    "\n",
    "decrypt_data_arr = s.decrypt_OFB(data, key, init_vec) \n",
    "rwf.write_data_1byte('aa3_sdes_c_ofb_all_decrypt.bmp', decrypt_data_arr)\n",
    "\n",
    "encrypt_data_arr = decrypt_data_arr[:50]\n",
    "temp_data = s.encrypt_data(decrypt_data_arr[50:], key)\n",
    "encrypt_data_arr.extend(temp_data)\n",
    "rwf.write_data_1byte('aa3_sdes_c_ofb_all_encrypt_ECB.bmp', encrypt_data_arr)\n",
    "\n",
    "encrypt_data_arr = decrypt_data_arr[:50]\n",
    "temp_data = s.encrypt_OFB(decrypt_data_arr[50:], key, init_vec)\n",
    "encrypt_data_arr.extend(temp_data)\n",
    "rwf.write_data_1byte('aa3_sdes_c_ofb_all_encrypt_OFB.bmp', encrypt_data_arr)"
   ]
  }
 ],
 "metadata": {
  "kernelspec": {
   "display_name": "venv",
   "language": "python",
   "name": "python3"
  },
  "language_info": {
   "codemirror_mode": {
    "name": "ipython",
    "version": 3
   },
   "file_extension": ".py",
   "mimetype": "text/x-python",
   "name": "python",
   "nbconvert_exporter": "python",
   "pygments_lexer": "ipython3",
   "version": "3.11.3"
  }
 },
 "nbformat": 4,
 "nbformat_minor": 2
}
