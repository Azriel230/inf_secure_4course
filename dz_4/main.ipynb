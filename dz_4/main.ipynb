{
 "cells": [
  {
   "cell_type": "code",
   "execution_count": 1,
   "metadata": {},
   "outputs": [],
   "source": [
    "import read_write_file as rwf\n",
    "import detectEnglish as det_eng\n",
    "from spn1 import SPN1"
   ]
  },
  {
   "cell_type": "markdown",
   "metadata": {},
   "source": [
    "***Задание 1.*** <br>\n",
    "а) В файле spn1.py содержится реализация алгоритма шифрования.\n",
    "Пояснить, что делает функция demux(): <br>\n",
    "**Ответ:** разбивает 16-битное значение x на четыре 4-битных блока <br>\n",
    "б) Пояснить, что делает функция mux():\n",
    "**Ответ:** собирает четыре 4-битных блока в один 16-битный"
   ]
  },
  {
   "cell_type": "code",
   "execution_count": 2,
   "metadata": {},
   "outputs": [
    {
     "name": "stdout",
     "output_type": "stream",
     "text": [
      "x=0011101111011100\n",
      "y=[12, 13, 11, 3]\n",
      "y=0010010010111001\n"
     ]
    }
   ],
   "source": [
    "e = SPN1()\n",
    "x = 15324\n",
    "print('x={}'.format(bin(x)[2:].zfill(16)))\n",
    "y = e.demux(x)\n",
    "print('y={}'.format(y))\n",
    "\n",
    "e = SPN1()\n",
    "x = [9, 11, 4, 2]\n",
    "y = e.mux(x)\n",
    "print('y={}'.format(bin(y)[2:].zfill(16)))"
   ]
  },
  {
   "cell_type": "markdown",
   "metadata": {},
   "source": [
    "***Задание 2.*** <br>\n",
    "Написать функцию *encrypt_data(self, data, key, rounds)*, где \n",
    "- *data* – список чисел (данные, прочитанные из файла), \n",
    "- *key* – ключ шифра, \n",
    "- *rounds* – количество раундов. <br>\n",
    "\n",
    "В этой функции надо сформировать список раундовых ключей\n",
    "шифрования и для каждого числа (16 бит) в списке *data* вызывать функцию\n",
    "*encrypt*. Функция возвращает список зашифрованных данных.\n",
    "\n",
    "**Ответ:** *cypher_data=[8144, 26070, 3827, 38912]*"
   ]
  },
  {
   "cell_type": "code",
   "execution_count": 3,
   "metadata": {},
   "outputs": [
    {
     "name": "stdout",
     "output_type": "stream",
     "text": [
      "cypher_data=[8144, 26070, 3827, 38912]\n"
     ]
    }
   ],
   "source": [
    "data = [15324, 3453, 34, 12533]\n",
    "k = 734533245\n",
    "e = SPN1()\n",
    "cypher_data = e.encrypt_data(data=data, key=k, rounds=4)\n",
    "print('cypher_data={}'.format(cypher_data))"
   ]
  },
  {
   "cell_type": "markdown",
   "metadata": {},
   "source": [
    "***Задание 3*** <br>\n",
    "а) Добавить в класс SPN1 метод asbox(), который выполняет обратную\n",
    "замену. <br>"
   ]
  },
  {
   "cell_type": "code",
   "execution_count": 4,
   "metadata": {},
   "outputs": [
    {
     "name": "stdout",
     "output_type": "stream",
     "text": [
      "x=9--->s[9]=10\n",
      "as[10]=9\n"
     ]
    }
   ],
   "source": [
    "e = SPN1()\n",
    "x = 9\n",
    "sx = e.sbox(x)\n",
    "print('x={}--->s[{}]={}'.format(x, x, sx))\n",
    "x_ = e.asbox(sx)\n",
    "print('as[{}]={}'.format(sx, x_))"
   ]
  },
  {
   "cell_type": "markdown",
   "metadata": {},
   "source": [
    "б) Обратная перестановка $\\pi_p^{-1}$\n",
    "реализована с помощью метода apbox() <br>\n",
    "Не понятно куда деть p = [2, 5, 6, 8, 4, 14, 0, 7, 11, 10, 12, 1, 15, 9, 3, 13]"
   ]
  },
  {
   "cell_type": "code",
   "execution_count": 5,
   "metadata": {},
   "outputs": [
    {
     "name": "stdout",
     "output_type": "stream",
     "text": [
      "x=0010011010110111--->px=0010010111110011\n",
      "px=0010010111110011--->x_=0010011010110111\n"
     ]
    }
   ],
   "source": [
    "e = SPN1()\n",
    "x = int('0010011010110111', 2)\n",
    "px = e.pbox(x)\n",
    "print('x={}--->px={}'.format(bin(x)[2:].zfill(16), bin(px)[2:].zfill(16)))\n",
    "x_ = e.apbox(px)\n",
    "print('px={}--->x_={}'.format(bin(px)[2:].zfill(16), bin(x_)[2:].zfill(16)))"
   ]
  },
  {
   "cell_type": "markdown",
   "metadata": {},
   "source": [
    "в) Проверьте выполнение равенства $\\pi_p^{-1}(x \\oplus y)=\\pi_p^{-1}(x) \\oplus \\pi_p^{-1}(y)$, например,\n",
    "для x = 15324 и y = 24681."
   ]
  },
  {
   "cell_type": "code",
   "execution_count": 6,
   "metadata": {},
   "outputs": [
    {
     "name": "stdout",
     "output_type": "stream",
     "text": [
      "26991 26991\n"
     ]
    }
   ],
   "source": [
    "e = SPN1()\n",
    "x = 15324\n",
    "y = 24681\n",
    "x_xor_y = x^y\n",
    "pi_xxory = e.apbox(x_xor_y)\n",
    "pi_x = e.apbox(x)\n",
    "pi_y = e.apbox(y)\n",
    "pi_x_xor_pi_y = pi_x^pi_y\n",
    "print(pi_xxory, pi_x_xor_pi_y)"
   ]
  },
  {
   "cell_type": "markdown",
   "metadata": {},
   "source": [
    "***Задание 4.*** <br>\n",
    "Написать метод *round_keys_to_decrypt(self, key)*, где key – ключ\n",
    "шифрования. Функция формирует список раундовых ключей для\n",
    "расшифрования по формуле (1).<br>\n",
    "**Ответ:** <br>\n",
    "L0=0001011001111101<br>\n",
    "L1=1000001100110101<br>\n",
    "L2=1100100100010010<br>\n",
    "L3=1110010010001001<br>\n",
    "L4=0010101111001000<br>"
   ]
  },
  {
   "cell_type": "code",
   "execution_count": 7,
   "metadata": {},
   "outputs": [
    {
     "name": "stdout",
     "output_type": "stream",
     "text": [
      "L0=0001011001111101\n",
      "L1=1000001100110101\n",
      "L2=1100100100010010\n",
      "L3=1110010010001001\n",
      "L4=0010101111001000\n"
     ]
    }
   ],
   "source": [
    "e = SPN1()\n",
    "key = 734533245\n",
    "L = e.round_keys_to_decrypt(key=key)\n",
    "i = 0\n",
    "for item in L:\n",
    "    print('L{}={}'.format(i, bin(item)[2:].zfill(16)))\n",
    "    i = i + 1"
   ]
  },
  {
   "cell_type": "markdown",
   "metadata": {},
   "source": [
    "***Задание 5*** <br>\n",
    "Написать метод *decrypt(self, x, rl, rounds)*, который выполняет\n",
    "расшифрование одного блока данных (числа x). rl-список ключей для\n",
    "расшифрования, rounds-количество раундов (в данном случае - 4).\n",
    "Структурно метод совпадает с методом шифрования encrypt (рис.19), т.к.\n",
    "используется одна и та же схема (рис.1). <br>\n",
    "**Ответ:** <br>\n",
    "x=0010011010110111 <br>\n",
    "y=1011110011010110 <br>\n",
    "x_=0010011010110111 <br>"
   ]
  },
  {
   "cell_type": "code",
   "execution_count": 8,
   "metadata": {},
   "outputs": [
    {
     "name": "stdout",
     "output_type": "stream",
     "text": [
      "x=0010011010110111\n",
      "y=1011110011010110\n",
      "x_=0010011010110111\n"
     ]
    }
   ],
   "source": [
    "e = SPN1()\n",
    "x = 9911\n",
    "k = 982832703\n",
    "print('x={}'.format(bin(x)[2:].zfill(16)))\n",
    "rk = e.round_keys(k)\n",
    "y = e.encrypt(x, rk, rounds=4)\n",
    "lk = e.round_keys_to_decrypt(k)\n",
    "x_ = e.decrypt(y, lk, rounds=4)\n",
    "print('y={}'.format(bin(y)[2:].zfill(16)))\n",
    "print('x_={}'.format(bin(x_)[2:].zfill(16)))"
   ]
  },
  {
   "cell_type": "code",
   "execution_count": 9,
   "metadata": {},
   "outputs": [
    {
     "name": "stdout",
     "output_type": "stream",
     "text": [
      "8514\n",
      "4294934527\n",
      "x=0010000101000010\n",
      "y=1001100011110101\n",
      "x_=0010000101000010\n",
      "! B\n"
     ]
    }
   ],
   "source": [
    "#опрос с лекции (вариант 3)\n",
    "e = SPN1()\n",
    "x1 = 66\n",
    "x2 = 212\n",
    "x1_bin = bin(x1)[2:]\n",
    "x2_bin = bin(x1)[2:]\n",
    "x_bin = x1_bin + x2_bin\n",
    "x = int(x_bin, 2)\n",
    "print(x)\n",
    "k_bin = \"11111111111111110111111111111111\"\n",
    "k = int(k_bin, 2)\n",
    "print(k)\n",
    "print('x={}'.format(bin(x)[2:].zfill(16)))\n",
    "rk = e.round_keys(k)\n",
    "y = e.encrypt(x, rk, rounds=4)\n",
    "lk = e.round_keys_to_decrypt(k)\n",
    "x_ = e.decrypt(y, lk, rounds=4)\n",
    "print('y={}'.format(bin(y)[2:].zfill(16)))\n",
    "print('x_={}'.format(bin(x_)[2:].zfill(16)))\n",
    "\n",
    "x_bin_str = bin(x_)[2:].zfill(16)  # Преобразуем x_ в двоичное представление и добавляем нули\n",
    "\n",
    "# Получение двух 8-битных чисел\n",
    "first_8_bits = x_bin_str[:8]  # Первые 8 бит\n",
    "second_8_bits = x_bin_str[8:]  # Последние 8 бит\n",
    "\n",
    "# Преобразование в десятичные числа\n",
    "first_decimal = int(first_8_bits, 2)\n",
    "second_decimal = int(second_8_bits, 2)\n",
    "\n",
    "# Преобразование в символы\n",
    "first_char = chr(first_decimal)\n",
    "second_char = chr(second_decimal)\n",
    "\n",
    "# Вывод символов\n",
    "print(first_char, second_char)\n"
   ]
  },
  {
   "cell_type": "markdown",
   "metadata": {},
   "source": [
    "***Задание 6*** <br>\n",
    "Написать функцию *decrypt_data(self, data, key, rounds)*, где data –список\n",
    "чисел (данные, прочитанные из зашифрованного файла), key – ключ шифра,\n",
    "rounds – количество раундов. В этой функции надо сформировать список\n",
    "раундовых ключей расшифрования и для каждого числа (16 бит) в списке\n",
    "data вызвать функцию decrypt. Функция возвращает список расшифрованных\n",
    "данных. <br>\n",
    "**Ответ:** <br>\n",
    "x=[9911, 12432, 456, 21] <br>\n",
    "y=[48342, 41317, 8756, 23451] <br>\n",
    "x_=[9911, 12432, 456, 21]"
   ]
  },
  {
   "cell_type": "code",
   "execution_count": 10,
   "metadata": {},
   "outputs": [
    {
     "name": "stdout",
     "output_type": "stream",
     "text": [
      "x=[9911, 12432, 456, 21]\n",
      "y=[48342, 41317, 8756, 23451]\n",
      "x_=[9911, 12432, 456, 21]\n"
     ]
    }
   ],
   "source": [
    "e = SPN1()\n",
    "x = [9911, 12432, 456, 21]\n",
    "k = 982832703\n",
    "print('x={}'.format(x))\n",
    "y = e.encrypt_data(x, k, rounds=4)\n",
    "x_ = e.decrypt_data(y, k, rounds=4)\n",
    "print('y={}'.format(y))\n",
    "print('x_={}'.format(x_))"
   ]
  },
  {
   "cell_type": "markdown",
   "metadata": {},
   "source": [
    "***Задание 7*** <br>\n",
    "Зашифровать и расшифровать содержимое файла (‘123.txt’) с помощью\n",
    "функций encrypt_data и decrypt_data. Для получения содержимого файла в\n",
    "виде списка чисел использовать функцию read_data_2byte. Для записи\n",
    "функции в файл использовать функцию write_data_2byte.\n",
    "Убедиться, что расшифрованный после шифрования файл совпадает с\n",
    "исходным (рис.22)."
   ]
  },
  {
   "cell_type": "code",
   "execution_count": 11,
   "metadata": {},
   "outputs": [],
   "source": [
    "e = SPN1()\n",
    "# шифрование\n",
    "data = rwf.read_data_2byte('123.txt')\n",
    "cypher_data = e.encrypt_data(data, key=452342216, rounds=4)\n",
    "rwf.write_data_2byte('123_encrypt.txt', cypher_data)\n",
    "# расшифрование\n",
    "data = rwf.read_data_2byte('123_encrypt.txt')\n",
    "decrypt_data = e.decrypt_data(data, key=452342216, rounds=4)\n",
    "rwf.write_data_2byte('123_decrypt.txt', decrypt_data)"
   ]
  },
  {
   "cell_type": "markdown",
   "metadata": {},
   "source": [
    "***Задание 8*** <br>\n",
    "Расшифровать файл d5_spn_c_all.bmp – зашифрованное шифром на\n",
    "основе сети SPN изображение в формате bmp. Ключ равен 34523456231.\n",
    "Полученное изображение в формате bmp зашифровать. Сохранить в\n",
    "файле следующие данные: первые 50 байт – исходные (незашифрованные)\n",
    "данные, все последующие байты – зашифрованные. Полученный файл\n",
    "открыть в редакторе. Вставить в отчет исходное и зашифрованное таким\n",
    "образом изображение."
   ]
  },
  {
   "cell_type": "code",
   "execution_count": 12,
   "metadata": {},
   "outputs": [],
   "source": [
    "data = rwf.read_data_2byte('d5_spn_c_all.bmp')\n",
    "key = 34523456231\n",
    "rounds = 4\n",
    "e = SPN1()\n",
    "\n",
    "decrypt_data_arr = e.decrypt_data(data, key, rounds) \n",
    "rwf.write_data_2byte('d5_spn_c_all_decrypt.bmp', decrypt_data_arr)\n",
    "\n",
    "encrypt_data_arr = decrypt_data_arr[:50]\n",
    "temp_data = e.encrypt_data(decrypt_data_arr[50:], key, rounds)\n",
    "encrypt_data_arr.extend(temp_data)\n",
    "rwf.write_data_2byte('d5_spn_c_all_encrypt_50.bmp', encrypt_data_arr)"
   ]
  },
  {
   "cell_type": "markdown",
   "metadata": {},
   "source": [
    "***Задание 9*** <br>\n",
    "Расшифровать файл d9_spn_c_cbc_all.bmp – зашифрованное шифром на\n",
    "основе сети SPN изображение в формате bmp. Режим шифрования CBC.\n",
    "Ключ равен 345238754631. Вектор инициализации равен 9. <br>\n",
    "Полученное изображение в формате bmp зашифровать, используя\n",
    "режим шифрования CBC. Сохранить в файле следующие данные: первые 50\n",
    "байт – исходные (незашифрованные) данные, все последующие байты –\n",
    "зашифрованные. Полученный файл открыть в редакторе."
   ]
  },
  {
   "cell_type": "code",
   "execution_count": 13,
   "metadata": {},
   "outputs": [],
   "source": [
    "data = rwf.read_data_2byte('d9_spn_c_cbc_all.bmp')\n",
    "key = 345238754631\n",
    "init_vector = 9\n",
    "rounds = 4\n",
    "e = SPN1()\n",
    "decrypt_data_arr = e.decrypt_CBC(data, key, init_vector, rounds) \n",
    "rwf.write_data_2byte('d9_spn_c_cbc_all_decrypt_CBC.bmp', decrypt_data_arr)\n",
    "\n",
    "encrypt_data_arr = decrypt_data_arr[:50]\n",
    "temp_data = e.encrypt_CBC(data[50:], key, init_vector, rounds)\n",
    "encrypt_data_arr.extend(temp_data)\n",
    "rwf.write_data_2byte('d9_spn_c_cbc_all_encrypt_CBC.bmp', encrypt_data_arr)"
   ]
  },
  {
   "cell_type": "markdown",
   "metadata": {},
   "source": [
    "***Задание 10*** <br>\n",
    "Расшифровать файл im28_spn_c_ofb_all.bmp. Шифр SPN. Режим OFB. <br>\n",
    "Key = 898387587921 iv= 3253. Зашифровать, оставив первые 50 байт без\n",
    "изменения."
   ]
  },
  {
   "cell_type": "code",
   "execution_count": 14,
   "metadata": {},
   "outputs": [],
   "source": [
    "data = rwf.read_data_2byte('im28_spn_c_ofb_all.bmp')\n",
    "key = 898387587921\n",
    "init_vector = 3253\n",
    "rounds = 4\n",
    "e = SPN1()\n",
    "decrypt_data_arr = e.decrypt_OFB(data, key, init_vector, rounds) \n",
    "rwf.write_data_2byte('im28_spn_c_ofb_all_decrypt_OFB.bmp', decrypt_data_arr)\n",
    "\n",
    "encrypt_data_arr = decrypt_data_arr[:50]\n",
    "temp_data = e.encrypt_OFB(data[50:], key, init_vector, rounds)\n",
    "encrypt_data_arr.extend(temp_data)\n",
    "rwf.write_data_2byte('im28_spn_c_ofb_all_encrypt_OFB.bmp', encrypt_data_arr)"
   ]
  },
  {
   "cell_type": "markdown",
   "metadata": {},
   "source": [
    "***Задание 11*** <br>\n",
    "Расшифровать файл im29_spn_c_cfb_all.bmp. Шифр SPN. Режим CFB. <br>\n",
    "Key = 78384265902 iv= 4245. Зашифровать, оставив первые 50 байт без\n",
    "изменения."
   ]
  },
  {
   "cell_type": "code",
   "execution_count": 15,
   "metadata": {},
   "outputs": [],
   "source": [
    "data = rwf.read_data_2byte('im29_spn_c_cfb_all.bmp')\n",
    "key = 78384265902\n",
    "init_vector = 4245\n",
    "rounds = 4\n",
    "e = SPN1()\n",
    "decrypt_data_arr = e.decrypt_CFB(data, key, init_vector, rounds) \n",
    "rwf.write_data_2byte('im29_spn_c_cfb_all_decrypt_CFB.bmp', decrypt_data_arr)\n",
    "\n",
    "encrypt_data_arr = decrypt_data_arr[:50]\n",
    "temp_data = e.encrypt_CFB(data[50:], key, init_vector, rounds)\n",
    "encrypt_data_arr.extend(temp_data)\n",
    "rwf.write_data_2byte('im29_spn_c_cfb_all_encrypt_CFB.bmp', encrypt_data_arr)"
   ]
  },
  {
   "cell_type": "markdown",
   "metadata": {},
   "source": [
    "***Задание 12***<br>\n",
    "Расшифровать файл im30_spn_c_ctr_all.bmp. Шифр SPN. Режим CTR.<br>\n",
    "Key = 3136432567 iv= 7546. Зашифровать, оставив первые 50 байт без\n",
    "изменения.<br>"
   ]
  },
  {
   "cell_type": "code",
   "execution_count": 16,
   "metadata": {},
   "outputs": [],
   "source": [
    "data = rwf.read_data_2byte('im30_spn_c_ctr_all.bmp')\n",
    "key = 3136432567\n",
    "init_vector = 7546\n",
    "rounds = 4\n",
    "e = SPN1()\n",
    "decrypt_data_arr = e.decrypt_CTR(data, key, init_vector, rounds) \n",
    "rwf.write_data_2byte('im30_spn_c_ctr_all_decrypt_CTR.bmp', decrypt_data_arr)\n",
    "\n",
    "encrypt_data_arr = decrypt_data_arr[:50]\n",
    "temp_data = e.encrypt_CTR(data[50:], key, init_vector, rounds)\n",
    "encrypt_data_arr.extend(temp_data)\n",
    "rwf.write_data_2byte('im30_spn_c_ctr_all_encrypt_CTR.bmp', encrypt_data_arr)"
   ]
  },
  {
   "cell_type": "markdown",
   "metadata": {},
   "source": [
    "***Задание 13*** <br>\n",
    "Дешифровать файл im31_spn_c_ctr_all.bmp. Шифр SPN. Режим CTR. <br>\n",
    "Известны младшие биты ключа: 0110101011010011100001111, iv= 552211. <br>\n",
    "Зашифровать, оставив первые 50 байт без изменения."
   ]
  },
  {
   "cell_type": "code",
   "execution_count": 17,
   "metadata": {},
   "outputs": [],
   "source": [
    "def ctr(data, init_c, key, rounds):\n",
    "    e = SPN1()\n",
    "    result = []\n",
    "    \n",
    "    for i in range(len(data)):\n",
    "        gamma_block = e.encrypt(init_c + i, e.round_keys(key), rounds)\n",
    "        result.append(data[i] ^ gamma_block)\n",
    "    return result\n",
    "\n",
    "\n",
    "def find_key(encrypted_data, vector, part_of_key):\n",
    "    for i in range(0, 128):  \n",
    "        key = (i << 25) | part_of_key\n",
    "        decrypted = ctr(encrypted_data[:1], vector, key, 4)  \n",
    "        if decrypted and decrypted[0] == 0x4D42:  \n",
    "            return key\n",
    "    return None\n",
    "\n",
    "\n",
    "data = rwf.read_data_2byte('im31_spn_c_ctr_all.bmp')\n",
    "part_of_key = 0b0110101011010011100001111\n",
    "init_vector = 552211\n",
    "rounds = 4\n",
    "e = SPN1()\n",
    "key = find_key(data, init_vector, part_of_key)\n",
    "\n",
    "decrypt_data_arr = e.decrypt_CTR(data, key, init_vector, rounds)\n",
    "rwf.write_data_2byte('im31_spn_c_ctr_all_decrypt_CTR.bmp', decrypt_data_arr)\n",
    "\n",
    "encrypt_data_arr = decrypt_data_arr[:50]\n",
    "temp_data = e.encrypt_CTR(data[50:], key, init_vector, rounds)\n",
    "encrypt_data_arr.extend(temp_data)\n",
    "rwf.write_data_2byte('im31_spn_c_ctr_all_encrypt_CTR.bmp', encrypt_data_arr)"
   ]
  }
 ],
 "metadata": {
  "kernelspec": {
   "display_name": "venv",
   "language": "python",
   "name": "python3"
  },
  "language_info": {
   "codemirror_mode": {
    "name": "ipython",
    "version": 3
   },
   "file_extension": ".py",
   "mimetype": "text/x-python",
   "name": "python",
   "nbconvert_exporter": "python",
   "pygments_lexer": "ipython3",
   "version": "3.11.3"
  }
 },
 "nbformat": 4,
 "nbformat_minor": 2
}
