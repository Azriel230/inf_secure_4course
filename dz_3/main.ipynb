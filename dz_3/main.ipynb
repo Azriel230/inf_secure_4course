{
 "cells": [
  {
   "cell_type": "code",
   "execution_count": 1,
   "metadata": {},
   "outputs": [],
   "source": [
    "import read_write_file as rwf\n",
    "import detectEnglish as det_eng"
   ]
  },
  {
   "cell_type": "code",
   "execution_count": 2,
   "metadata": {},
   "outputs": [],
   "source": [
    "#Caesar функции\n",
    "def encrypt(m, key):\n",
    "    c = (m + key) % 256\n",
    "    return c\n",
    "\n",
    "\n",
    "def decrypt(m, key):\n",
    "    c = (m - key) % 256\n",
    "    return c\n",
    "\n",
    "\n",
    "def encrypt_data(data, key):\n",
    "    cypher_data = []\n",
    "    for m in data:\n",
    "        c = encrypt(m, key)\n",
    "        cypher_data.append(c)\n",
    "    return cypher_data\n",
    "\n",
    "\n",
    "def decrypt_data(data_c, key):\n",
    "    data = []\n",
    "    for c in data_c:\n",
    "        m = decrypt(c, key)\n",
    "        data.append(m)\n",
    "    return data"
   ]
  },
  {
   "cell_type": "markdown",
   "metadata": {},
   "source": [
    "Функции различных режимов шифрования и расшифрования."
   ]
  },
  {
   "cell_type": "code",
   "execution_count": 42,
   "metadata": {},
   "outputs": [],
   "source": [
    "#Расшифрование в режиме CBC шифром Цезаря.\n",
    "def decrypt_CBC(data_crypt, key, vector):\n",
    "    data = []\n",
    "    cd = decrypt(data_crypt[0], key)\n",
    "    d = vector ^ cd\n",
    "    data.append(d)\n",
    "    for i in range(1, len(data_crypt)):\n",
    "        cd = decrypt(data_crypt[i], key)\n",
    "        d = data_crypt[i-1] ^ cd\n",
    "        data.append(d)\n",
    "    return data\n",
    "\n",
    "\n",
    "#Шифрование в режиме СВС шифром Цезаря.\n",
    "def encrypt_CBC(data, key, vector):\n",
    "    data_crypt = []\n",
    "    ev = data[0] ^ vector\n",
    "    e = encrypt(ev, key)\n",
    "    data_crypt.append(e)\n",
    "    for i in range(1, len(data)):\n",
    "        ev = data[i] ^ e\n",
    "        e = encrypt(ev, key)\n",
    "        data_crypt.append(e)\n",
    "    return data_crypt\n",
    "\n",
    "\n",
    "#Расшифрование в режиме OFB шифром Цезаря.\n",
    "def decrypt_OFB(data_crypt, key, vector):\n",
    "    data = []\n",
    "    cd = encrypt(vector, key)\n",
    "    d = data_crypt[0] ^ cd\n",
    "    data.append(d)\n",
    "    for i in range(1, len(data_crypt)):\n",
    "        cd = encrypt(cd, key)\n",
    "        d = data_crypt[i] ^ cd\n",
    "        data.append(d)\n",
    "    return data\n",
    "\n",
    "\n",
    "#Шифрование в режиме OFB шифром Цезаря.\n",
    "def encrypt_OFB(data, key, vector):\n",
    "    data_crypt = []\n",
    "    ev = encrypt(vector, key)\n",
    "    e = data[0] ^ ev\n",
    "    data_crypt.append(e)\n",
    "    for i in range(1, len(data)):\n",
    "        ev = encrypt(ev, key)\n",
    "        e = data[i] ^ ev\n",
    "        data_crypt.append(e)\n",
    "    return data_crypt\n",
    "\n",
    "\n",
    "#Расшифрование в режиме CFB шифром Цезаря.\n",
    "def decrypt_CFB(data_crypt, key, vector):\n",
    "    data = []\n",
    "    cd = encrypt(vector, key)\n",
    "    d = data_crypt[0] ^ cd\n",
    "    data.append(d)\n",
    "    for i in range(1, len(data_crypt)):\n",
    "        cd = encrypt(data_crypt[i-1], key)\n",
    "        d = data_crypt[i] ^ cd\n",
    "        data.append(d)\n",
    "    return data\n",
    "\n",
    "\n",
    "#Шифрование в режиме CFB шифром Цезаря.\n",
    "def encrypt_CFB(data, key, vector):\n",
    "    data_crypt = []\n",
    "    ev = encrypt(vector, key)\n",
    "    e = data[0] ^ ev\n",
    "    data_crypt.append(e)\n",
    "    for i in range(1, len(data)):\n",
    "        ev = encrypt(e, key)\n",
    "        e = data[i] ^ ev\n",
    "        data_crypt.append(e)\n",
    "    return data_crypt\n",
    "\n",
    "\n",
    "#Расшифрование в режиме CTR шифром Цезаря.\n",
    "def decrypt_CTR(data_crypt, key, vector):\n",
    "    data = []\n",
    "    for i in range(len(data_crypt)):\n",
    "        cd = encrypt(vector + i, key)\n",
    "        d = data_crypt[i] ^ cd\n",
    "        data.append(d)\n",
    "    return data\n",
    "\n",
    "\n",
    "#Шифрование в режиме CTR шифром Цезаря.\n",
    "def encrypt_CTR(data, key, vector):\n",
    "    data_crypt = []\n",
    "    for i in range(len(data)):\n",
    "        ev = encrypt(vector + i, key)\n",
    "        e = data[i] ^ ev\n",
    "        data_crypt.append(e)\n",
    "    return data_crypt"
   ]
  },
  {
   "cell_type": "markdown",
   "metadata": {},
   "source": [
    "Задание 1.\n",
    "Расшифровать файл z1_caesar_cbc_c_all.bmp – зашифрованное шифром\n",
    "Цезаря изображение в формате bmp. Режим шифрования CBC (рис. 2, 3).\n",
    "Ключ равен 223. Вектор инициализации равен 59. Зашифровать в режиме\n",
    "ECB и в режиме CBC, оставив первые 50 байт без изменения. Сравнить\n",
    "полученные изображения."
   ]
  },
  {
   "cell_type": "code",
   "execution_count": 30,
   "metadata": {},
   "outputs": [],
   "source": [
    "def ex1():\n",
    "    data = rwf.read_data_1byte('z1_caesar_cbc_c_all.bmp')\n",
    "    key = 223\n",
    "    init_vector = 59\n",
    "    decrypt_data_arr = decrypt_CBC(data, key, init_vector) \n",
    "    rwf.write_data_1byte('z1_caesar_cbc_c_all_decrypt.bmp', decrypt_data_arr)\n",
    "\n",
    "\n",
    "def ex1_encrypt():\n",
    "    data = rwf.read_data_1byte('z1_caesar_cbc_c_all_decrypt.bmp')\n",
    "    key = 223\n",
    "    init_vector = 59\n",
    "    \n",
    "    encrypt_data_arr = data[:50]\n",
    "    temp_data = encrypt_data(data[50:], key)\n",
    "    encrypt_data_arr.extend(temp_data)\n",
    "    rwf.write_data_1byte('z1_caesar_cbc_c_all_encrypt_ECB.bmp', encrypt_data_arr)\n",
    "    \n",
    "    encrypt_data_arr = data[:50]\n",
    "    temp_data = encrypt_CBC(data[50:], key, init_vector)\n",
    "    encrypt_data_arr.extend(temp_data)\n",
    "    rwf.write_data_1byte('z1_caesar_cbc_c_all_encrypt_CBC.bmp', encrypt_data_arr)\n"
   ]
  },
  {
   "cell_type": "code",
   "execution_count": 24,
   "metadata": {},
   "outputs": [],
   "source": [
    "ex1()\n",
    "ex1_encrypt()"
   ]
  },
  {
   "cell_type": "markdown",
   "metadata": {},
   "source": [
    "Задание 2.\n",
    "Расшифровать файл im8_caesar_ofb_c_all.bmp – зашифрованное\n",
    "шифром Цезаря изображение в формате bmp. Режим шифрования OFB (рис.\n",
    "4, 5). Ключ равен 56. Вектор инициализации равен 9. Зашифровать в режиме\n",
    "ECB и в режиме OFB, оставив первые 50 байт без изменения. Сравнить\n",
    "полученные изображения."
   ]
  },
  {
   "cell_type": "code",
   "execution_count": 33,
   "metadata": {},
   "outputs": [],
   "source": [
    "def ex2():\n",
    "    data = rwf.read_data_1byte('im8_caesar_ofb_c_all.bmp')\n",
    "    key = 56\n",
    "    init_vector = 9\n",
    "    decrypt_data_arr = decrypt_OFB(data, key, init_vector) \n",
    "    rwf.write_data_1byte('im8_caesar_ofb_c_all_decrypt.bmp', decrypt_data_arr)\n",
    "\n",
    "\n",
    "def ex2_encrypt():\n",
    "    data = rwf.read_data_1byte('im8_caesar_ofb_c_all_decrypt.bmp')\n",
    "    key = 56\n",
    "    init_vector = 9\n",
    "    \n",
    "    encrypt_data_arr = data[:50]\n",
    "    temp_data = encrypt_data(data[50:], key)\n",
    "    encrypt_data_arr.extend(temp_data)\n",
    "    rwf.write_data_1byte('im8_caesar_ofb_c_all_encrypt_ECB.bmp', encrypt_data_arr)\n",
    "    \n",
    "    encrypt_data_arr = data[:50]\n",
    "    temp_data = encrypt_OFB(data[50:], key, init_vector)\n",
    "    encrypt_data_arr.extend(temp_data)\n",
    "    rwf.write_data_1byte('im8_caesar_ofb_c_all_encrypt_OFB.bmp', encrypt_data_arr)"
   ]
  },
  {
   "cell_type": "code",
   "execution_count": 34,
   "metadata": {},
   "outputs": [],
   "source": [
    "ex2()\n",
    "ex2_encrypt()"
   ]
  },
  {
   "cell_type": "markdown",
   "metadata": {},
   "source": [
    "Задание 3.\n",
    "Расшифровать файл z2_caesar_cfb_c_all.bmp – зашифрованное шифром\n",
    "Цезаря изображение в формате bmp. Режим шифрования CFB (рис. 6, 7).\n",
    "Ключ равен 174. Вектор инициализации равен 9. Зашифровать в режиме ECB\n",
    "и в режиме СFB, оставив первые 50 байт без изменения. Сравнить\n",
    "полученные изображения."
   ]
  },
  {
   "cell_type": "code",
   "execution_count": 36,
   "metadata": {},
   "outputs": [],
   "source": [
    "def ex3():\n",
    "    data = rwf.read_data_1byte('z2_caesar_cfb_c_all.bmp')\n",
    "    key = 174\n",
    "    init_vector = 9\n",
    "    decrypt_data_arr = decrypt_CFB(data, key, init_vector) \n",
    "    rwf.write_data_1byte('z2_caesar_cfb_c_all_decrypt.bmp', decrypt_data_arr)\n",
    "\n",
    "\n",
    "def ex3_encrypt():\n",
    "    data = rwf.read_data_1byte('z2_caesar_cfb_c_all_decrypt.bmp')\n",
    "    key = 174\n",
    "    init_vector = 9\n",
    "    \n",
    "    encrypt_data_arr = data[:50]\n",
    "    temp_data = encrypt_data(data[50:], key)\n",
    "    encrypt_data_arr.extend(temp_data)\n",
    "    rwf.write_data_1byte('z2_caesar_cfb_c_all_encrypt_ECB.bmp', encrypt_data_arr)\n",
    "    \n",
    "    encrypt_data_arr = data[:50]\n",
    "    temp_data = encrypt_CFB(data[50:], key, init_vector)\n",
    "    encrypt_data_arr.extend(temp_data)\n",
    "    rwf.write_data_1byte('z2_caesar_cfb_c_all_encrypt_CFB.bmp', encrypt_data_arr)"
   ]
  },
  {
   "cell_type": "code",
   "execution_count": 37,
   "metadata": {},
   "outputs": [],
   "source": [
    "ex3()\n",
    "ex3_encrypt()"
   ]
  },
  {
   "cell_type": "markdown",
   "metadata": {},
   "source": [
    "Задание 4.\n",
    "Расшифровать файл z3_caesar_ctr_c_all.bmp – зашифрованное шифром\n",
    "Цезаря изображение в формате bmp. Режим шифрования CTR (рис. 8, 9).\n",
    "Ключ равен 223. Вектор инициализации равен 78. Зашифровать в режиме\n",
    "ECB и в режиме CTR, оставив первые 50 байт без изменения. Сравнить\n",
    "полученные изображения."
   ]
  },
  {
   "cell_type": "code",
   "execution_count": 43,
   "metadata": {},
   "outputs": [],
   "source": [
    "def ex4():\n",
    "    data = rwf.read_data_1byte('z3_caesar_ctr_c_all.bmp')\n",
    "    key = 223\n",
    "    init_vector = 78\n",
    "    decrypt_data_arr = decrypt_CTR(data, key, init_vector) \n",
    "    rwf.write_data_1byte('z3_caesar_ctr_c_all_decrypt.bmp', decrypt_data_arr)\n",
    "\n",
    "\n",
    "def ex4_encrypt():\n",
    "    data = rwf.read_data_1byte('z3_caesar_ctr_c_all_decrypt.bmp')\n",
    "    key = 223\n",
    "    init_vector = 78\n",
    "    \n",
    "    encrypt_data_arr = data[:50]\n",
    "    temp_data = encrypt_data(data[50:], key)\n",
    "    encrypt_data_arr.extend(temp_data)\n",
    "    rwf.write_data_1byte('z3_caesar_ctr_c_all_encrypt_ECB.bmp', encrypt_data_arr)\n",
    "    \n",
    "    encrypt_data_arr = data[:50]\n",
    "    temp_data = encrypt_CTR(data[50:], key, init_vector)\n",
    "    encrypt_data_arr.extend(temp_data)\n",
    "    rwf.write_data_1byte('z3_caesar_ctr_c_all_encrypt_CTR.bmp', encrypt_data_arr)"
   ]
  },
  {
   "cell_type": "code",
   "execution_count": 44,
   "metadata": {},
   "outputs": [],
   "source": [
    "ex4()\n",
    "ex4_encrypt()"
   ]
  },
  {
   "cell_type": "markdown",
   "metadata": {},
   "source": [
    "Задание 5.\n",
    "Для одного из расшифрованных изображений выполнить следующее:\n",
    "на одном и том же ключе и векторе инициализации зашифровать во всех\n",
    "рассмотренных режимах, включая ECB, оставив первые 50 байт без\n",
    "изменения. Сравнить полученные изображения."
   ]
  },
  {
   "cell_type": "markdown",
   "metadata": {},
   "source": [
    "В качестве расшифрованного изображения был выбран файл z1_caesar_cbc_c_all_decrypt.bmp\n",
    "Ключ = 228, вектор = 123"
   ]
  },
  {
   "cell_type": "code",
   "execution_count": 45,
   "metadata": {},
   "outputs": [],
   "source": [
    "def ex5():\n",
    "    data = rwf.read_data_1byte('z1_caesar_cbc_c_all_decrypt.bmp')\n",
    "    key = 228\n",
    "    init_vector = 123\n",
    "    \n",
    "    encrypt_data_arr = data[:50]\n",
    "    temp_data = encrypt_data(data[50:], key)\n",
    "    encrypt_data_arr.extend(temp_data)\n",
    "    rwf.write_data_1byte('z5_mode_encrypt_ECB.bmp', encrypt_data_arr)\n",
    "    \n",
    "    encrypt_data_arr = data[:50]\n",
    "    temp_data = encrypt_CBC(data[50:], key, init_vector)\n",
    "    encrypt_data_arr.extend(temp_data)\n",
    "    rwf.write_data_1byte('z5_mode_encrypt_CBC.bmp', encrypt_data_arr)\n",
    "\n",
    "    encrypt_data_arr = data[:50]\n",
    "    temp_data = encrypt_OFB(data[50:], key, init_vector)\n",
    "    encrypt_data_arr.extend(temp_data)\n",
    "    rwf.write_data_1byte('z5_mode_encrypt_OFB.bmp', encrypt_data_arr)\n",
    "\n",
    "    encrypt_data_arr = data[:50]\n",
    "    temp_data = encrypt_CFB(data[50:], key, init_vector)\n",
    "    encrypt_data_arr.extend(temp_data)\n",
    "    rwf.write_data_1byte('z5_mode_encrypt_CFB.bmp', encrypt_data_arr)\n",
    "\n",
    "    encrypt_data_arr = data[:50]\n",
    "    temp_data = encrypt_CTR(data[50:], key, init_vector)\n",
    "    encrypt_data_arr.extend(temp_data)\n",
    "    rwf.write_data_1byte('z5_mode_encrypt_CTR.bmp', encrypt_data_arr)"
   ]
  },
  {
   "cell_type": "code",
   "execution_count": 46,
   "metadata": {},
   "outputs": [],
   "source": [
    "ex5()"
   ]
  }
 ],
 "metadata": {
  "kernelspec": {
   "display_name": "venv",
   "language": "python",
   "name": "python3"
  },
  "language_info": {
   "codemirror_mode": {
    "name": "ipython",
    "version": 3
   },
   "file_extension": ".py",
   "mimetype": "text/x-python",
   "name": "python",
   "nbconvert_exporter": "python",
   "pygments_lexer": "ipython3",
   "version": "3.11.3"
  }
 },
 "nbformat": 4,
 "nbformat_minor": 2
}
